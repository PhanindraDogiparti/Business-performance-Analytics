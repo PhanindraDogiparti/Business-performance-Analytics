{
  "nbformat": 4,
  "nbformat_minor": 0,
  "metadata": {
    "colab": {
      "provenance": [],
      "include_colab_link": true
    },
    "kernelspec": {
      "name": "python3",
      "display_name": "Python 3"
    },
    "language_info": {
      "name": "python"
    }
  },
  "cells": [
    {
      "cell_type": "markdown",
      "metadata": {
        "id": "view-in-github",
        "colab_type": "text"
      },
      "source": [
        "<a href=\"https://colab.research.google.com/github/PhanindraDogiparti/Business-performance-Analytics/blob/main/Business_Performance_using_pyspark_.ipynb\" target=\"_parent\"><img src=\"https://colab.research.google.com/assets/colab-badge.svg\" alt=\"Open In Colab\"/></a>"
      ]
    },
    {
      "cell_type": "code",
      "execution_count": 4,
      "metadata": {
        "id": "q7JiTE_d-puM"
      },
      "outputs": [],
      "source": [
        "from pyspark.sql.functions import col,lit,when\n",
        "from pyspark.ml.feature import StringIndexer\n",
        "from pyspark.ml.feature import VectorAssembler\n",
        "from pyspark.sql import SparkSession\n",
        "from pyspark.ml.regression import LinearRegression\n",
        "from pyspark.ml.regression import RandomForestRegressor\n",
        "spark=SparkSession.builder.appName('MySession').getOrCreate()"
      ]
    },
    {
      "cell_type": "code",
      "source": [
        "pip install pyspark"
      ],
      "metadata": {
        "colab": {
          "base_uri": "https://localhost:8080/"
        },
        "id": "I9td2zDBDPHc",
        "outputId": "5a84a618-a213-4589-8f3e-b4a934476945"
      },
      "execution_count": 5,
      "outputs": [
        {
          "output_type": "stream",
          "name": "stdout",
          "text": [
            "Requirement already satisfied: pyspark in /usr/local/lib/python3.10/dist-packages (3.5.3)\n",
            "Requirement already satisfied: py4j==0.10.9.7 in /usr/local/lib/python3.10/dist-packages (from pyspark) (0.10.9.7)\n"
          ]
        }
      ]
    },
    {
      "cell_type": "code",
      "source": [
        "df=spark.read.csv(\"/content/Business performance analytics.csv\",header=True,inferSchema=True)"
      ],
      "metadata": {
        "id": "EZsURUeyDblW"
      },
      "execution_count": 7,
      "outputs": []
    },
    {
      "cell_type": "code",
      "source": [
        "df.columns\n",
        "df=df.na.drop()\n",
        "df.columns"
      ],
      "metadata": {
        "id": "IPii1j4-Mq4g",
        "colab": {
          "base_uri": "https://localhost:8080/"
        },
        "outputId": "d1fbcd86-3d15-4b1b-c019-7450662b74df"
      },
      "execution_count": 8,
      "outputs": [
        {
          "output_type": "execute_result",
          "data": {
            "text/plain": [
              "['rowid',\n",
              " 'orderid',\n",
              " 'orderdata',\n",
              " 'shipdate',\n",
              " 'shipmode',\n",
              " 'customerid',\n",
              " 'customername',\n",
              " 'segment',\n",
              " 'country',\n",
              " 'city',\n",
              " 'state',\n",
              " 'postalcode',\n",
              " 'region',\n",
              " 'productid',\n",
              " 'category',\n",
              " 'subcategory',\n",
              " 'productname',\n",
              " 'sales',\n",
              " 'quantity',\n",
              " 'discount',\n",
              " 'profit']"
            ]
          },
          "metadata": {},
          "execution_count": 8
        }
      ]
    },
    {
      "cell_type": "code",
      "source": [
        "selection_df = df.select('region', 'subcategory', 'category', 'quantity', 'sales')\n",
        "selection_df.printSchema()"
      ],
      "metadata": {
        "id": "xc2oSB1_MxxW",
        "colab": {
          "base_uri": "https://localhost:8080/"
        },
        "outputId": "767e6e07-cf00-48c4-c478-e57b9a2e05b0"
      },
      "execution_count": 9,
      "outputs": [
        {
          "output_type": "stream",
          "name": "stdout",
          "text": [
            "root\n",
            " |-- region: string (nullable = true)\n",
            " |-- subcategory: string (nullable = true)\n",
            " |-- category: string (nullable = true)\n",
            " |-- quantity: string (nullable = true)\n",
            " |-- sales: string (nullable = true)\n",
            "\n"
          ]
        }
      ]
    },
    {
      "cell_type": "code",
      "source": [
        "selection_df = selection_df.withColumn('sales', col('sales').cast('double'))\n",
        "selection_df = selection_df.withColumn('quantity', col('quantity').cast('double'))"
      ],
      "metadata": {
        "id": "4QcZZ0THaFOS"
      },
      "execution_count": 10,
      "outputs": []
    },
    {
      "cell_type": "code",
      "source": [
        "selection_df.show()"
      ],
      "metadata": {
        "id": "7Wx7qtSAa2Aa",
        "colab": {
          "base_uri": "https://localhost:8080/"
        },
        "outputId": "542f70e4-8776-4f7c-d5b9-ea9ec3400afd"
      },
      "execution_count": 11,
      "outputs": [
        {
          "output_type": "stream",
          "name": "stdout",
          "text": [
            "+-------+-----------+---------------+--------+--------+\n",
            "| region|subcategory|       category|quantity|   sales|\n",
            "+-------+-----------+---------------+--------+--------+\n",
            "|  South|  Bookcases|      Furniture|     2.0|  261.96|\n",
            "|  South|     Chairs|      Furniture|     3.0|  731.94|\n",
            "|   West|     Labels|Office Supplies|     2.0|   14.62|\n",
            "|  South|     Tables|      Furniture|     5.0|957.5775|\n",
            "|  South|    Storage|Office Supplies|     2.0|  22.368|\n",
            "|   West|Furnishings|      Furniture|     7.0|   48.86|\n",
            "|   West|        Art|Office Supplies|     4.0|    7.28|\n",
            "|   West|     Phones|     Technology|     6.0| 907.152|\n",
            "|   West|    Binders|Office Supplies|     3.0|  18.504|\n",
            "|   West| Appliances|Office Supplies|     5.0|   114.9|\n",
            "|   West|     Tables|      Furniture|     9.0|1706.184|\n",
            "|   West|     Phones|     Technology|     4.0| 911.424|\n",
            "|  South|      Paper|Office Supplies|     3.0|  15.552|\n",
            "|   West|    Binders|Office Supplies|     3.0| 407.976|\n",
            "|Central| Appliances|Office Supplies|     5.0|   68.81|\n",
            "|Central|    Binders|Office Supplies|     3.0|   2.544|\n",
            "|Central|    Storage|Office Supplies|     6.0|  665.88|\n",
            "|   West|    Storage|Office Supplies|     2.0|    55.5|\n",
            "|   West|        Art|Office Supplies|     2.0|    8.56|\n",
            "|   West|     Phones|     Technology|     3.0|  213.48|\n",
            "+-------+-----------+---------------+--------+--------+\n",
            "only showing top 20 rows\n",
            "\n"
          ]
        }
      ]
    },
    {
      "cell_type": "code",
      "source": [
        "selection_df = selection_df.na.drop()\n",
        "\n",
        "indexer = StringIndexer (inputCols=[\"region\", \"subcategory\"], outputCols=[\"region_indexed\", \"sub-Category_indexed\"])\n",
        "df_i = indexer.fit(selection_df).transform(selection_df)\n",
        "\n",
        "df_i.show()\n"
      ],
      "metadata": {
        "id": "lFyCY1J9a6L6",
        "colab": {
          "base_uri": "https://localhost:8080/"
        },
        "outputId": "66199808-9fb3-4816-ddd4-3767da3bf712"
      },
      "execution_count": 12,
      "outputs": [
        {
          "output_type": "stream",
          "name": "stdout",
          "text": [
            "+-------+-----------+---------------+--------+--------+--------------+--------------------+\n",
            "| region|subcategory|       category|quantity|   sales|region_indexed|sub-Category_indexed|\n",
            "+-------+-----------+---------------+--------+--------+--------------+--------------------+\n",
            "|  South|  Bookcases|      Furniture|     2.0|  261.96|           3.0|                12.0|\n",
            "|  South|     Chairs|      Furniture|     3.0|  731.94|           3.0|                 7.0|\n",
            "|   West|     Labels|Office Supplies|     2.0|   14.62|           0.0|                 9.0|\n",
            "|  South|     Tables|      Furniture|     5.0|957.5775|           3.0|                10.0|\n",
            "|  South|    Storage|Office Supplies|     2.0|  22.368|           3.0|                 4.0|\n",
            "|   West|Furnishings|      Furniture|     7.0|   48.86|           0.0|                 2.0|\n",
            "|   West|        Art|Office Supplies|     4.0|    7.28|           0.0|                 5.0|\n",
            "|   West|     Phones|     Technology|     6.0| 907.152|           0.0|                 3.0|\n",
            "|   West|    Binders|Office Supplies|     3.0|  18.504|           0.0|                 0.0|\n",
            "|   West| Appliances|Office Supplies|     5.0|   114.9|           0.0|                 8.0|\n",
            "|   West|     Tables|      Furniture|     9.0|1706.184|           0.0|                10.0|\n",
            "|   West|     Phones|     Technology|     4.0| 911.424|           0.0|                 3.0|\n",
            "|  South|      Paper|Office Supplies|     3.0|  15.552|           3.0|                 1.0|\n",
            "|   West|    Binders|Office Supplies|     3.0| 407.976|           0.0|                 0.0|\n",
            "|Central| Appliances|Office Supplies|     5.0|   68.81|           2.0|                 8.0|\n",
            "|Central|    Binders|Office Supplies|     3.0|   2.544|           2.0|                 0.0|\n",
            "|Central|    Storage|Office Supplies|     6.0|  665.88|           2.0|                 4.0|\n",
            "|   West|    Storage|Office Supplies|     2.0|    55.5|           0.0|                 4.0|\n",
            "|   West|        Art|Office Supplies|     2.0|    8.56|           0.0|                 5.0|\n",
            "|   West|     Phones|     Technology|     3.0|  213.48|           0.0|                 3.0|\n",
            "+-------+-----------+---------------+--------+--------+--------------+--------------------+\n",
            "only showing top 20 rows\n",
            "\n"
          ]
        }
      ]
    },
    {
      "cell_type": "code",
      "source": [
        "fa= VectorAssembler (inputCols=['region_indexed', 'sub-Category_indexed', 'quantity', 'sales' ], outputCol=\"Independent Features\")\n",
        "output = fa.transform(df_i)"
      ],
      "metadata": {
        "id": "0a1a3TVSbaUm"
      },
      "execution_count": 13,
      "outputs": []
    },
    {
      "cell_type": "code",
      "source": [
        "final_data = output.select(\"Independent Features\", \"sales\")\n",
        "final_data.na.drop()\n",
        "final_data.show()"
      ],
      "metadata": {
        "id": "uUnY1ElMb2m0",
        "colab": {
          "base_uri": "https://localhost:8080/"
        },
        "outputId": "7b9f5b49-848a-4259-c4c0-0347b07d8de0"
      },
      "execution_count": 14,
      "outputs": [
        {
          "output_type": "stream",
          "name": "stdout",
          "text": [
            "+--------------------+--------+\n",
            "|Independent Features|   sales|\n",
            "+--------------------+--------+\n",
            "|[3.0,12.0,2.0,261...|  261.96|\n",
            "|[3.0,7.0,3.0,731.94]|  731.94|\n",
            "| [0.0,9.0,2.0,14.62]|   14.62|\n",
            "|[3.0,10.0,5.0,957...|957.5775|\n",
            "|[3.0,4.0,2.0,22.368]|  22.368|\n",
            "| [0.0,2.0,7.0,48.86]|   48.86|\n",
            "|  [0.0,5.0,4.0,7.28]|    7.28|\n",
            "|[0.0,3.0,6.0,907....| 907.152|\n",
            "|[0.0,0.0,3.0,18.504]|  18.504|\n",
            "| [0.0,8.0,5.0,114.9]|   114.9|\n",
            "|[0.0,10.0,9.0,170...|1706.184|\n",
            "|[0.0,3.0,4.0,911....| 911.424|\n",
            "|[3.0,1.0,3.0,15.552]|  15.552|\n",
            "|[0.0,0.0,3.0,407....| 407.976|\n",
            "| [2.0,8.0,5.0,68.81]|   68.81|\n",
            "| [2.0,0.0,3.0,2.544]|   2.544|\n",
            "|[2.0,4.0,6.0,665.88]|  665.88|\n",
            "|  [0.0,4.0,2.0,55.5]|    55.5|\n",
            "|  [0.0,5.0,2.0,8.56]|    8.56|\n",
            "|[0.0,3.0,3.0,213.48]|  213.48|\n",
            "+--------------------+--------+\n",
            "only showing top 20 rows\n",
            "\n"
          ]
        }
      ]
    },
    {
      "cell_type": "code",
      "source": [
        "train_data, test_data = final_data.randomSplit([0.80, 0.20])\n",
        "regressor=LinearRegression (featuresCol='Independent Features', labelCol='sales')\n",
        "regressor = regressor.fit(train_data)"
      ],
      "metadata": {
        "id": "m_l3T96hcANg"
      },
      "execution_count": 15,
      "outputs": []
    },
    {
      "cell_type": "code",
      "source": [
        "predict_results = regressor.evaluate(test_data)\n",
        "\n",
        "predict_results. predictions.show()"
      ],
      "metadata": {
        "id": "hS_6g-XThEdP",
        "colab": {
          "base_uri": "https://localhost:8080/"
        },
        "outputId": "c6dddd8d-d3ad-4c6e-8f22-293777e0fb95"
      },
      "execution_count": 16,
      "outputs": [
        {
          "output_type": "stream",
          "name": "stdout",
          "text": [
            "+--------------------+------+------------------+\n",
            "|Independent Features| sales|        prediction|\n",
            "+--------------------+------+------------------+\n",
            "| [0.0,0.0,1.0,2.025]| 2.025| 2.024999999999784|\n",
            "| [0.0,0.0,1.0,2.688]| 2.688|2.6879999999997843|\n",
            "| [0.0,0.0,1.0,3.856]| 3.856|3.8559999999997845|\n",
            "| [0.0,0.0,1.0,5.022]| 5.022| 5.021999999999785|\n",
            "| [0.0,0.0,1.0,6.384]| 6.384| 6.383999999999786|\n",
            "|[0.0,0.0,1.0,11.744]|11.744|11.743999999999785|\n",
            "|[0.0,0.0,1.0,13.184]|13.184|13.183999999999786|\n",
            "| [0.0,0.0,2.0,1.188]| 1.188|1.1879999999998077|\n",
            "| [0.0,0.0,2.0,2.388]| 2.388| 2.387999999999808|\n",
            "| [0.0,0.0,2.0,5.214]| 5.214| 5.213999999999809|\n",
            "| [0.0,0.0,2.0,8.288]| 8.288|  8.28799999999981|\n",
            "| [0.0,0.0,2.0,9.762]| 9.762|  9.76199999999981|\n",
            "| [0.0,0.0,2.0,13.76]| 13.76|13.759999999999811|\n",
            "|[0.0,0.0,2.0,13.904]|13.904|13.903999999999812|\n",
            "|[0.0,0.0,2.0,14.624]|14.624|14.623999999999812|\n",
            "|[0.0,0.0,2.0,17.456]|17.456|17.455999999999808|\n",
            "|[0.0,0.0,2.0,17.568]|17.568| 17.56799999999981|\n",
            "|[0.0,0.0,2.0,22.848]|22.848|22.847999999999807|\n",
            "|[0.0,0.0,2.0,25.584]|25.584| 25.58399999999981|\n",
            "|[0.0,0.0,2.0,27.264]|27.264| 27.26399999999981|\n",
            "+--------------------+------+------------------+\n",
            "only showing top 20 rows\n",
            "\n"
          ]
        }
      ]
    },
    {
      "cell_type": "code",
      "source": [
        "print(\"MAE is \", predict_results.meanAbsoluteError)\n",
        "print(\"MSE is \", predict_results.meanSquaredError)\n",
        "print(\"RMSE is \",predict_results.rootMeanSquaredError)\n",
        "print(\"R2 is \",predict_results.r2)\n",
        "print(\"Adj R2 is \", predict_results.r2adj)"
      ],
      "metadata": {
        "id": "ERxPiKmUhJJ9",
        "colab": {
          "base_uri": "https://localhost:8080/"
        },
        "outputId": "f073ec75-a9a2-4c93-a079-9ee8c658cb33"
      },
      "execution_count": 17,
      "outputs": [
        {
          "output_type": "stream",
          "name": "stdout",
          "text": [
            "MAE is  1.0070973187141372e-13\n",
            "MSE is  2.6394568505977094e-26\n",
            "RMSE is  1.6246405296550095e-13\n",
            "R2 is  1.0\n",
            "Adj R2 is  1.0\n"
          ]
        }
      ]
    }
  ]
}